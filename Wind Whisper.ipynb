{
 "cells": [
  {
   "attachments": {},
   "cell_type": "markdown",
   "metadata": {},
   "source": [
    "# SCC0277: Desafio de Séries Temporais\n",
    "\n",
    "Dikson F. Santos `<dikson@usp.br>`\n",
    "\n",
    "`(github.com/diksown/wind-whisper)`\n"
   ]
  }
 ],
 "metadata": {
  "language_info": {
   "name": "python"
  },
  "orig_nbformat": 4
 },
 "nbformat": 4,
 "nbformat_minor": 2
}
